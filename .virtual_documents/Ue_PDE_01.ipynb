import numpy as np
import matplotlib.pyplot as plt
%matplotlib inline
NG = 30
xg = np.linspace(-np.pi, np.pi, NG)
yg = np.linspace(0, 2*np.pi, NG)
X, Y = np.meshgrid(xg, yg)
U = np.sin(X)
V = np.cos(Y)

plt.figure()
plt.quiver(X, Y, U, V)
plt.show()


import sympy as sy

from sympy import Function, Eq
from sympy.solvers.pde import pdsolve
x, y = sy.symbols("x y")

u = Function("u")(x, y)
u_y = u.diff(y)
u_x = u.diff(x)
eq = Eq(sy.sin(x)*u_x + sy.cos(y)*u_y, 1)
pdsolve(eq).simplify()


sy.integrate(1/sy.sin(x), x)


sy.sqrt(t*t)


sy.integrate(1/sy.cos(y), y)





t = sy.Symbol("t", negative=True)


v = sy.Symbol("v")
sy.sqrt(v*v)





v = sy.Symbol("v")
sy.sqrt(v*v)



