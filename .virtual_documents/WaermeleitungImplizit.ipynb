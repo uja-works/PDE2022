


import numpy as np
import matplotlib.pyplot as plt
import scipy
import scipy.sparse # Methoden für dünn besetzte Matrizen








a = 4
b = 1
A = np.array([[a, b, 0, 0],
              [b, a, b, 0],
              [0, b, a, b],
              [0, 0, b, a]
             ])
A





plt.figure()
plt.spy(A) 





rhs = np.sum(A, axis=1) # Zeilensummen
rhs


np.linalg.solve(A, rhs)






