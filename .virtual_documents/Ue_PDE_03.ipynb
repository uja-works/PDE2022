





import scipy
import scipy.sparse
import numpy as np
import matplotlib.pyplot as plt





A = np.array([2, 1, 0, 1, 2, 1, 0, 1 ,2]).reshape(3,3)
A


np.linalg.det(A)


b = np.array([3, 4, 3])
b


np.linalg.solve(A, b)


plt.spy(A) # Visualisierung der Nicht-Nulleinträge der Matrix A





A_sp = scipy.sparse.csr_matrix(A)


A_sp


plt.spy(A_sp)


print(A_sp)





%matplotlib widget
from scipy import sparse

N = 100
alpha = 0.24


diag0 = (1 + 2*alpha) * np.ones(N)
diag1 = -alpha*np.ones(N)

data = np.array([diag1, diag0, diag1])

LInv = sparse.spdiags(data, (-1, 0, 1), N, N)
#LInv.todense()
plt.figure()
plt.spy(LInv)


LInv


#x0 = np.ones(N)
x0 = np.arange(N)
rhs = LInv @ x0
rhs


from scipy.sparse.linalg import spsolve
LInv = LInv.tocsr()
x = spsolve(LInv, rhs)
x





%%time
T = 1.0e-1
alpha = 10.4
N_X = 500
L = 1.0
D = 1.0
dx = L/(N_X-1)
dt = alpha*dx**2/D

diag0 = (1 + 2*alpha) * np.ones(N_X)
diag1 = -alpha*np.ones(N_X)
data = np.array([diag1, diag0, diag1])
LInv = sparse.spdiags(data, (-1, 0, 1), N_X, N_X)
LInv = LInv.tocsr()

u_0 = np.zeros(N_X)
u_0[N_X//2] = 1/dx
u_0[-1] = 22  # mögliche andere Randbedingung
# u_0[0] = 42
x = np.linspace(0, L, N_X)
u = u_0.copy() # Alternativ in numpy: u = 1*u_0

t = 0
while t < T:
    u = spsolve(LInv, u)
    #u[1:-1] = (1 - 2*alpha)*u[1:-1] + alpha*(u[0:-2] + u[2:])
    t += dt

A1 = np.max(u)

plt.figure()
plt.plot(x,u)
plt.plot(x, A1*np.sin(x*np.pi/L))
plt.title("Lösung der Diffusionsgleichung")
plt.legend(["u", "Asymptote"])
plt.xlabel("Position $x$")
plt.ylabel(r"Temperatur $\Theta$")
plt.show()

u_impl = u.copy()





%%time
T = 1.0e-2
alpha = 10.51
N_X = 500
L = 1
D = 1.0
dx = L/(N_X-1)
dt = alpha*dx**2/D

diag0_M = (1 + alpha) * np.ones(N_X)
diag1_M = -0.5*alpha*np.ones(N_X)
data = np.array([diag1_M, diag0_M, diag1_M])
M = sparse.spdiags(data, (-1, 0, 1), N_X, N_X)
M = M.tocsr()

diag0_L = (1 - alpha) * np.ones(N_X)
diag1_L = 0.5*alpha*np.ones(N_X)
data = np.array([diag1_L, diag0_L, diag1_L])
LRHS = sparse.spdiags(data, (-1, 0, 1), N_X, N_X)
LRHS = LRHS.tocsr()


u_0 = np.zeros(N_X)
u_0[N_X//2] = 1.0/dx
# u_0[-1] = 22  # mögliche andere Randbedingung
# u_0[0] = 42
x = np.linspace(0, L, N_X)
u = u_0.copy() # Alternativ in numpy: u = 1*u_0

p0_hist = []
p1_hist = []

t = 0
while t < T:
    u = LRHS @ u
    u = spsolve(M, u)
    p0_hist.append(u[N_X//2])
    p1_hist.append(u[N_X//2 + 1])
    #u[1:-1] = (1 - 2*alpha)*u[1:-1] + alpha*(u[0:-2] + u[2:])
    t += dt

A1 = np.max(u)

plt.figure()
plt.plot(x,u)
plt.plot(x, u_impl)
plt.plot(x, A1*np.sin(x*np.pi/L))
plt.title("Lösung der Diffusionsgleichung")
plt.legend(["CN", "implicit", "Asymptote"])
plt.xlabel("Position $x$")
plt.ylabel(r"Temperatur $\Theta$")
plt.show()
                   
plt.figure()
plt.plot(p0_hist)
plt.plot(p1_hist)
plt.show()


x.shape, u.shape, u_impl.shape



