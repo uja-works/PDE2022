


import sympy as sym
from sympy.plotting import plot, plot3d
import matplotlib 
x = 2
sym.sqrt(2)
%matplotlib notebook


x, y = sym.symbols("x y")
plot3d(sym.sin(x)*sym.sin(y), (x,-5,5), (y,-5,5))



