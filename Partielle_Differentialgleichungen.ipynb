{
 "cells": [
  {
   "cell_type": "markdown",
   "metadata": {},
   "source": [
    "# Partielle Differentialgleichungen"
   ]
  },
  {
   "cell_type": "code",
   "execution_count": 2,
   "metadata": {},
   "outputs": [],
   "source": [
    "import numpy as np\n",
    "import matplotlib.pyplot as plt\n",
    "import sys"
   ]
  },
  {
   "cell_type": "code",
   "execution_count": 3,
   "metadata": {},
   "outputs": [
    {
     "name": "stdout",
     "output_type": "stream",
     "text": [
      "3.10.9 (main, Dec 15 2022, 17:11:09) [Clang 14.0.0 (clang-1400.0.29.202)]\n"
     ]
    }
   ],
   "source": [
    "print(sys.version)"
   ]
  },
  {
   "cell_type": "markdown",
   "metadata": {},
   "source": [
    "## Symbolische Mathematik mit Python\n",
    "\n",
    "Ein hervorragendes Tool für die symbolische Mathematik mit Python ist das Paket `sympy`, das wir zunächst einbinden. Mit `init_printing` sorgen wir für eine schönere Darstellung der mathematischen Symbole."
   ]
  },
  {
   "cell_type": "code",
   "execution_count": 4,
   "metadata": {},
   "outputs": [],
   "source": [
    "import sympy as sp\n",
    "sp.init_printing()"
   ]
  },
  {
   "cell_type": "markdown",
   "metadata": {
    "slideshow": {
     "slide_type": "fragment"
    }
   },
   "source": [
    "### Lösung von Gleichungen"
   ]
  },
  {
   "cell_type": "markdown",
   "metadata": {},
   "source": [
    "Zunächst ein lineares Gleichungssystem."
   ]
  },
  {
   "cell_type": "code",
   "execution_count": 5,
   "metadata": {},
   "outputs": [
    {
     "data": {
      "image/png": "[encoded data removed]",
      "text/latex": [
       "$\\displaystyle \\left\\{ x : \\frac{1}{2}, \\  y : \\frac{3}{2}\\right\\}$"
      ],
      "text/plain": [
       "{x: 1/2, y: 3/2}"
      ]
     },
     "execution_count": 5,
     "metadata": {},
     "output_type": "execute_result"
    }
   ],
   "source": [
    "x, y, z = sp.symbols(\"x y z\")\n",
    "sp.solve([x + y - 2, x - y + 1], (x, y))"
   ]
  },
  {
   "cell_type": "markdown",
   "metadata": {},
   "source": [
    "Aber auch nichtlineare Systeme lassen sich manchmal mit Sympy lösen."
   ]
  },
  {
   "cell_type": "code",
   "execution_count": 6,
   "metadata": {},
   "outputs": [
    {
     "data": {
      "image/png": "[encoded data removed]",
      "text/latex": [
       "$\\displaystyle \\left[ \\left( - \\frac{2 \\sqrt{5} \\sqrt{z}}{5}, \\  - \\frac{\\sqrt{5} \\sqrt{z}}{5}\\right), \\  \\left( \\frac{2 \\sqrt{5} \\sqrt{z}}{5}, \\  \\frac{\\sqrt{5} \\sqrt{z}}{5}\\right)\\right]$"
      ],
      "text/plain": [
       "⎡⎛-2⋅√5⋅√z   -√5⋅√z ⎞  ⎛2⋅√5⋅√z  √5⋅√z⎞⎤\n",
       "⎢⎜─────────, ───────⎟, ⎜───────, ─────⎟⎥\n",
       "⎣⎝    5         5   ⎠  ⎝   5       5  ⎠⎦"
      ]
     },
     "execution_count": 6,
     "metadata": {},
     "output_type": "execute_result"
    }
   ],
   "source": [
    "sp.solve([x - 2*y, x**2 + y**2 - z], (x, y))"
   ]
  },
  {
   "cell_type": "markdown",
   "metadata": {},
   "source": [
    "### Ableitungen und Integrale"
   ]
  },
  {
   "cell_type": "code",
   "execution_count": 7,
   "metadata": {},
   "outputs": [
    {
     "data": {
      "image/png": "[encoded data removed]",
      "text/latex": [
       "$\\displaystyle \\frac{2 x}{\\left(x^{2} + 1\\right)^{2} + 1}$"
      ],
      "text/plain": [
       "     2⋅x     \n",
       "─────────────\n",
       "        2    \n",
       "⎛ 2    ⎞     \n",
       "⎝x  + 1⎠  + 1"
      ]
     },
     "execution_count": 7,
     "metadata": {},
     "output_type": "execute_result"
    }
   ],
   "source": [
    "f = sp.atan(1 + x*x)\n",
    "df = f.diff()\n",
    "df"
   ]
  },
  {
   "cell_type": "markdown",
   "metadata": {},
   "source": [
    "Wenn wir dies integrieren, sollte wieder die ursprüngliche Funktion herauskommen."
   ]
  },
  {
   "cell_type": "code",
   "execution_count": 8,
   "metadata": {},
   "outputs": [
    {
     "data": {
      "image/png": "[encoded data removed]",
      "text/latex": [
       "$\\displaystyle \\operatorname{atan}{\\left(x^{2} + 1 \\right)}$"
      ],
      "text/plain": [
       "    ⎛ 2    ⎞\n",
       "atan⎝x  + 1⎠"
      ]
     },
     "execution_count": 8,
     "metadata": {},
     "output_type": "execute_result"
    }
   ],
   "source": [
    "sp.integrate(df, x)"
   ]
  },
  {
   "cell_type": "markdown",
   "metadata": {},
   "source": [
    "Nicht allle Ausdrücke werden sofort vereinfacht."
   ]
  },
  {
   "cell_type": "code",
   "execution_count": 9,
   "metadata": {},
   "outputs": [
    {
     "data": {
      "image/png": "[encoded data removed]",
      "text/latex": [
       "$\\displaystyle \\sin^{2}{\\left(x \\right)} + \\cos^{2}{\\left(x \\right)}$"
      ],
      "text/plain": [
       "   2         2   \n",
       "sin (x) + cos (x)"
      ]
     },
     "execution_count": 9,
     "metadata": {},
     "output_type": "execute_result"
    }
   ],
   "source": [
    "a = sp.cos(x)**2 + sp.sin(x)**2\n",
    "a"
   ]
  },
  {
   "cell_type": "markdown",
   "metadata": {},
   "source": [
    "Mit `simplify` lässt sich dies beheben."
   ]
  },
  {
   "cell_type": "code",
   "execution_count": 10,
   "metadata": {},
   "outputs": [
    {
     "data": {
      "image/png": "[encoded data removed]",
      "text/latex": [
       "$\\displaystyle 1$"
      ],
      "text/plain": [
       "1"
      ]
     },
     "execution_count": 10,
     "metadata": {},
     "output_type": "execute_result"
    }
   ],
   "source": [
    "a.simplify()"
   ]
  },
  {
   "cell_type": "markdown",
   "metadata": {},
   "source": [
    "`simplify`, `diff` und viele andere Methoden lassen sich alternativ als Funktionen aufrufen:"
   ]
  },
  {
   "cell_type": "code",
   "execution_count": 11,
   "metadata": {},
   "outputs": [
    {
     "data": {
      "image/png": "[encoded data removed]",
      "text/latex": [
       "$\\displaystyle \\operatorname{atan}{\\left(x^{2} + 1 \\right)}$"
      ],
      "text/plain": [
       "    ⎛ 2    ⎞\n",
       "atan⎝x  + 1⎠"
      ]
     },
     "execution_count": 11,
     "metadata": {},
     "output_type": "execute_result"
    }
   ],
   "source": [
    "df.integrate(x)"
   ]
  },
  {
   "cell_type": "markdown",
   "metadata": {},
   "source": [
    "Auch bestimmte Integrale lassen sich natürlich berechnen."
   ]
  },
  {
   "cell_type": "code",
   "execution_count": 12,
   "metadata": {},
   "outputs": [
    {
     "data": {
      "image/png": "[encoded data removed]",
      "text/latex": [
       "$\\displaystyle \\frac{\\pi}{4}$"
      ],
      "text/plain": [
       "π\n",
       "─\n",
       "4"
      ]
     },
     "execution_count": 12,
     "metadata": {},
     "output_type": "execute_result"
    }
   ],
   "source": [
    "sp.integrate(1/(1 + x*x), (x, 0, 1))"
   ]
  },
  {
   "cell_type": "markdown",
   "metadata": {},
   "source": [
    "Das Symbol `oo` steht in Sympy für unendlich. Wir können es als `sp.oo` einbinden oder direkt aus Sympy importieren."
   ]
  },
  {
   "cell_type": "code",
   "execution_count": 13,
   "metadata": {},
   "outputs": [],
   "source": [
    "from sympy import oo"
   ]
  },
  {
   "cell_type": "code",
   "execution_count": 14,
   "metadata": {},
   "outputs": [
    {
     "data": {
      "image/png": "[encoded data removed]",
      "text/latex": [
       "$\\displaystyle \\sqrt{\\pi}$"
      ],
      "text/plain": [
       "√π"
      ]
     },
     "execution_count": 14,
     "metadata": {},
     "output_type": "execute_result"
    }
   ],
   "source": [
    "sp.integrate(sp.exp(-x**2), (x, -oo, oo))"
   ]
  },
  {
   "cell_type": "markdown",
   "metadata": {},
   "source": [
    "### Summen und Reihen"
   ]
  },
  {
   "cell_type": "code",
   "execution_count": 15,
   "metadata": {},
   "outputs": [
    {
     "data": {
      "image/png": "[encoded data removed]",
      "text/latex": [
       "$\\displaystyle \\frac{N^{2}}{2} + \\frac{N}{2}$"
      ],
      "text/plain": [
       " 2    \n",
       "N    N\n",
       "── + ─\n",
       "2    2"
      ]
     },
     "execution_count": 15,
     "metadata": {},
     "output_type": "execute_result"
    }
   ],
   "source": [
    "k, N = sp.symbols(\"k N\")\n",
    "sp.summation(k, (k,1,N))"
   ]
  },
  {
   "cell_type": "code",
   "execution_count": 16,
   "metadata": {},
   "outputs": [
    {
     "data": {
      "image/png": "[encoded data removed]",
      "text/latex": [
       "$\\displaystyle \\begin{cases} \\frac{1}{1 - x} & \\text{for}\\: \\left|{x}\\right| < 1 \\\\\\sum_{k=0}^{\\infty} x^{k} & \\text{otherwise} \\end{cases}$"
      ],
      "text/plain": [
       "⎧   1                 \n",
       "⎪ ─────    for │x│ < 1\n",
       "⎪ 1 - x               \n",
       "⎪                     \n",
       "⎪  ∞                  \n",
       "⎪ ___                 \n",
       "⎨ ╲                   \n",
       "⎪  ╲    k             \n",
       "⎪  ╱   x    otherwise \n",
       "⎪ ╱                   \n",
       "⎪ ‾‾‾                 \n",
       "⎪k = 0                \n",
       "⎩                     "
      ]
     },
     "execution_count": 16,
     "metadata": {},
     "output_type": "execute_result"
    }
   ],
   "source": [
    "expr = sp.summation( x**k, (k, 0, oo))\n",
    "expr"
   ]
  },
  {
   "cell_type": "markdown",
   "metadata": {},
   "source": [
    "Am letzten Beispiel ist zu sehen, wie sympy mit Fallunterscheidungen umgeht. Implementiert ist das Ergebnis als stückweise definierte Funktion, auf deren Definition wir mit `expr.args` zugreifen können:"
   ]
  },
  {
   "cell_type": "code",
   "execution_count": 17,
   "metadata": {},
   "outputs": [
    {
     "data": {
      "image/png": "[encoded data removed]",
      "text/latex": [
       "$\\displaystyle \\left( \\left( \\frac{1}{1 - x}, \\  \\left|{x}\\right| < 1\\right), \\  \\left( \\sum_{k=0}^{\\infty} x^{k}, \\  \\text{True}\\right)\\right)$"
      ],
      "text/plain": [
       "⎛                  ⎛  ∞           ⎞⎞\n",
       "⎜                  ⎜ ___          ⎟⎟\n",
       "⎜                  ⎜ ╲            ⎟⎟\n",
       "⎜⎛  1           ⎞  ⎜  ╲    k      ⎟⎟\n",
       "⎜⎜─────, │x│ < 1⎟, ⎜  ╱   x , True⎟⎟\n",
       "⎜⎝1 - x         ⎠  ⎜ ╱            ⎟⎟\n",
       "⎜                  ⎜ ‾‾‾          ⎟⎟\n",
       "⎝                  ⎝k = 0         ⎠⎠"
      ]
     },
     "execution_count": 17,
     "metadata": {},
     "output_type": "execute_result"
    }
   ],
   "source": [
    "expr.args"
   ]
  },
  {
   "cell_type": "markdown",
   "metadata": {},
   "source": [
    "Hiermit können wir natürlich auch die Definitionen auf Teilbereichen extrahieren:"
   ]
  },
  {
   "cell_type": "code",
   "execution_count": 18,
   "metadata": {
    "tags": []
   },
   "outputs": [
    {
     "data": {
      "image/png": "[encoded data removed]",
      "text/latex": [
       "$\\displaystyle \\frac{1}{1 - x}$"
      ],
      "text/plain": [
       "  1  \n",
       "─────\n",
       "1 - x"
      ]
     },
     "execution_count": 18,
     "metadata": {},
     "output_type": "execute_result"
    }
   ],
   "source": [
    "expr.args[0][0]"
   ]
  },
  {
   "cell_type": "markdown",
   "metadata": {},
   "source": [
    "Wir können auch mit Hilfe einer Substitution Bedingungen als  wahr annehmen:"
   ]
  },
  {
   "cell_type": "code",
   "execution_count": 19,
   "metadata": {
    "tags": []
   },
   "outputs": [
    {
     "data": {
      "image/png": "[encoded data removed]",
      "text/latex": [
       "$\\displaystyle \\frac{1}{1 - x}$"
      ],
      "text/plain": [
       "  1  \n",
       "─────\n",
       "1 - x"
      ]
     },
     "execution_count": 19,
     "metadata": {},
     "output_type": "execute_result"
    }
   ],
   "source": [
    "expr = sp.summation( x**k, (k, 0, oo)).subs(sp.Abs(x) < 1, True)\n",
    "expr"
   ]
  },
  {
   "cell_type": "markdown",
   "metadata": {},
   "source": [
    "Dies hat allerdings seine Grenzen. Wir müssen den genauen Ausdruck angeben, sonst wird die Ersetzung nicht durchgeführt. Der folgende äquivalente Ausdruck wird nicht wunschgemäß ausgewertet:"
   ]
  },
  {
   "cell_type": "code",
   "execution_count": 20,
   "metadata": {},
   "outputs": [
    {
     "data": {
      "image/png": "[encoded data removed]",
      "text/latex": [
       "$\\displaystyle \\begin{cases} \\frac{1}{1 - x} & \\text{for}\\: \\left|{x}\\right| < 1 \\\\\\sum_{k=0}^{\\infty} x^{k} & \\text{otherwise} \\end{cases}$"
      ],
      "text/plain": [
       "⎧   1                 \n",
       "⎪ ─────    for │x│ < 1\n",
       "⎪ 1 - x               \n",
       "⎪                     \n",
       "⎪  ∞                  \n",
       "⎪ ___                 \n",
       "⎨ ╲                   \n",
       "⎪  ╲    k             \n",
       "⎪  ╱   x    otherwise \n",
       "⎪ ╱                   \n",
       "⎪ ‾‾‾                 \n",
       "⎪k = 0                \n",
       "⎩                     "
      ]
     },
     "execution_count": 20,
     "metadata": {},
     "output_type": "execute_result"
    }
   ],
   "source": [
    "sp.summation( x**k, (k, 0, oo)).subs(sp.Abs(x) - 1 < 0, True)"
   ]
  },
  {
   "cell_type": "markdown",
   "metadata": {},
   "source": [
    "### Lösung partieller Differentialgleichungen\n",
    "Wir lösen die Gleichung\n",
    "$$ u_t - v u_x = 0, $$\n",
    "wobei $v$ eine reelle Konstante ist."
   ]
  },
  {
   "cell_type": "code",
   "execution_count": 21,
   "metadata": {},
   "outputs": [
    {
     "data": {
      "image/png": "[encoded data removed]",
      "text/latex": [
       "$\\displaystyle u{\\left(x,t \\right)} = F{\\left(- t v + x \\right)}$"
      ],
      "text/plain": [
       "u(x, t) = F(-t⋅v + x)"
      ]
     },
     "execution_count": 21,
     "metadata": {},
     "output_type": "execute_result"
    }
   ],
   "source": [
    "x, t, v = sp.symbols(\"x t v\")\n",
    "u = sp.Function(\"u\")\n",
    "phi = u(x, t)\n",
    "eq = sp.diff(phi, t) + v*sp.diff(phi, x) # linke Seite der PDGl\n",
    "sol = sp.pdsolve(eq)  # rechte Seite wird als 0 angenommen\n",
    "sol"
   ]
  },
  {
   "cell_type": "code",
   "execution_count": 31,
   "metadata": {},
   "outputs": [
    {
     "data": {
      "image/png": "[encoded data removed]",
      "text/latex": [
       "$\\displaystyle F{\\left(- t v + x \\right)}$"
      ],
      "text/plain": [
       "F(-t⋅v + x)"
      ]
     },
     "execution_count": 31,
     "metadata": {},
     "output_type": "execute_result"
    }
   ],
   "source": [
    "rhs = sol.rhs\n",
    "rhs"
   ]
  },
  {
   "cell_type": "code",
   "execution_count": 32,
   "metadata": {},
   "outputs": [
    {
     "data": {
      "image/png": "[encoded data removed]",
      "text/latex": [
       "$\\displaystyle - \\sin{\\left(t v - x \\right)}$"
      ],
      "text/plain": [
       "-sin(t⋅v - x)"
      ]
     },
     "execution_count": 32,
     "metadata": {},
     "output_type": "execute_result"
    }
   ],
   "source": [
    "F = sp.Function(\"F\")\n",
    "rhs.subs(F, sp.sin)"
   ]
  },
  {
   "cell_type": "code",
   "execution_count": null,
   "metadata": {},
   "outputs": [],
   "source": []
  }
 ],
 "metadata": {
  "kernelspec": {
   "display_name": "Python 3 (ipykernel)",
   "language": "python",
   "name": "python3"
  },
  "language_info": {
   "codemirror_mode": {
    "name": "ipython",
    "version": 3
   },
   "file_extension": ".py",
   "mimetype": "text/x-python",
   "name": "python",
   "nbconvert_exporter": "python",
   "pygments_lexer": "ipython3",
   "version": "3.10.9"
  }
 },
 "nbformat": 4,
 "nbformat_minor": 4
}
