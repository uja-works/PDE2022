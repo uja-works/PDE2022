{
 "cells": [
  {
   "cell_type": "markdown",
   "id": "2da38596-1c69-411b-8aa2-d36301919f3d",
   "metadata": {},
   "source": [
    "# Implizite Verfahren zur Lösung der Wärmeleitungsgleichung"
   ]
  },
  {
   "cell_type": "code",
   "execution_count": 3,
   "id": "41881578-8f23-4fb8-b4b6-ab1a38074b04",
   "metadata": {},
   "outputs": [],
   "source": [
    "import numpy as np\n",
    "import matplotlib.pyplot as plt\n",
    "import scipy\n",
    "import scipy.sparse # Methoden für dünn besetzte Matrizen"
   ]
  },
  {
   "cell_type": "markdown",
   "id": "5649d2d9-208f-44e8-939c-3bf068af20cc",
   "metadata": {},
   "source": [
    "Partielle Differentialgleichungen führen bei Diskretisierung (z.B. Finite Differenzen, Finite Elemente, Fouriermethoden) zu dünn besetzten linearen Gleichungssystemen. `scipy.sparse.linalg` enthält viele Methoden zur Lösung solcher Gleichungssysteme."
   ]
  },
  {
   "cell_type": "markdown",
   "id": "dcc36355-19d4-4678-adc6-f86746ca03b9",
   "metadata": {},
   "source": [
    "## Darstellung eines \"dünn bestzten\" Gleichungssystems durch gewöhnliche Matrizen"
   ]
  },
  {
   "cell_type": "code",
   "execution_count": 21,
   "id": "fb4d8d4a-ead4-4063-8f12-baee7ed8537e",
   "metadata": {},
   "outputs": [
    {
     "data": {
      "text/plain": [
       "array([[4, 1, 0, 0],\n",
       "       [1, 4, 1, 0],\n",
       "       [0, 1, 4, 1],\n",
       "       [0, 0, 1, 4]])"
      ]
     },
     "execution_count": 21,
     "metadata": {},
     "output_type": "execute_result"
    }
   ],
   "source": [
    "a = 4\n",
    "b = 1\n",
    "A = np.array([[a, b, 0, 0],\n",
    "              [b, a, b, 0],\n",
    "              [0, b, a, b],\n",
    "              [0, 0, b, a]\n",
    "             ])\n",
    "A"
   ]
  },
  {
   "cell_type": "markdown",
   "id": "3d3e3369-08e2-46a6-b1b8-cf4917659b65",
   "metadata": {},
   "source": [
    "Visualisierung der Matrixstruktur mit `spy`."
   ]
  },
  {
   "cell_type": "code",
   "execution_count": 22,
   "id": "d08117ac-cfcd-49fe-8931-688d01021d21",
   "metadata": {},
   "outputs": [
    {
     "data": {
      "text/plain": [
       "<matplotlib.image.AxesImage at 0x14413fa50>"
      ]
     },
     "execution_count": 22,
     "metadata": {},
     "output_type": "execute_result"
    },
    {
     "data": {
      "image/png": "[encoded data removed]",
      "text/plain": [
       "<Figure size 640x480 with 1 Axes>"
      ]
     },
     "metadata": {},
     "output_type": "display_data"
    }
   ],
   "source": [
    "plt.figure()\n",
    "plt.spy(A) "
   ]
  },
  {
   "cell_type": "markdown",
   "id": "4a734875-86aa-4d7a-98f3-c12937ee1bd5",
   "metadata": {},
   "source": [
    "Lösung eines Gleichungssystems:"
   ]
  },
  {
   "cell_type": "code",
   "execution_count": 23,
   "id": "b76d1fe3-963f-4030-8805-b8febdc37f08",
   "metadata": {},
   "outputs": [
    {
     "data": {
      "text/plain": [
       "array([5, 6, 6, 5])"
      ]
     },
     "execution_count": 23,
     "metadata": {},
     "output_type": "execute_result"
    }
   ],
   "source": [
    "rhs = np.sum(A, axis=1) # Zeilensummen\n",
    "rhs"
   ]
  },
  {
   "cell_type": "code",
   "execution_count": 25,
   "id": "ae2deb17-f1b1-42e8-b95d-1ff7a41bcb7c",
   "metadata": {},
   "outputs": [
    {
     "data": {
      "text/plain": [
       "array([1., 1., 1., 1.])"
      ]
     },
     "execution_count": 25,
     "metadata": {},
     "output_type": "execute_result"
    }
   ],
   "source": [
    "np.linalg.solve(A, rhs)"
   ]
  },
  {
   "cell_type": "markdown",
   "id": "7e37f060-5885-412c-964a-daf38f2437f7",
   "metadata": {},
   "source": [
    "Gleiches Problem mit dünn besetzten Matrizen im CSR-Format (\"Compressed Sparse Row\"):"
   ]
  },
  {
   "cell_type": "code",
   "execution_count": null,
   "id": "93b0eda4-a1e2-4d8c-afe2-37624d7899f0",
   "metadata": {},
   "outputs": [],
   "source": []
  }
 ],
 "metadata": {
  "kernelspec": {
   "display_name": "Python 3 (ipykernel)",
   "language": "python",
   "name": "python3"
  },
  "language_info": {
   "codemirror_mode": {
    "name": "ipython",
    "version": 3
   },
   "file_extension": ".py",
   "mimetype": "text/x-python",
   "name": "python",
   "nbconvert_exporter": "python",
   "pygments_lexer": "ipython3",
   "version": "3.11.8"
  }
 },
 "nbformat": 4,
 "nbformat_minor": 5
}
