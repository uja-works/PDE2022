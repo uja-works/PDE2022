{
 "cells": [
  {
   "cell_type": "code",
   "execution_count": 1,
   "id": "d8ede579",
   "metadata": {},
   "outputs": [],
   "source": [
    "import numpy as np\n",
    "import matplotlib.pyplot as plt\n",
    "import sympy as sp"
   ]
  },
  {
   "cell_type": "markdown",
   "id": "f7371d77",
   "metadata": {},
   "source": [
    "## Orthogonalität der Sinus-Funktionen"
   ]
  },
  {
   "cell_type": "code",
   "execution_count": 2,
   "id": "1f3713db",
   "metadata": {},
   "outputs": [],
   "source": [
    "x = sp.symbols(\"x\")\n",
    "L = sp.symbols(\"L\", positive=True)\n",
    "m, n = sp.symbols(\"m n\", integer=True, positive=True)#, negative=False)\n",
    "pi = sp.pi"
   ]
  },
  {
   "cell_type": "code",
   "execution_count": 3,
   "id": "da8517cc",
   "metadata": {},
   "outputs": [
    {
     "data": {
      "text/latex": [
       "$\\displaystyle \\begin{cases} 0 & \\text{for}\\: m \\neq n \\\\\\frac{L}{2} & \\text{otherwise} \\end{cases}$"
      ],
      "text/plain": [
       "Piecewise((0, Ne(m, n)), (L/2, True))"
      ]
     },
     "execution_count": 3,
     "metadata": {},
     "output_type": "execute_result"
    }
   ],
   "source": [
    "sp.integrate(sp.sin(n*pi*x/L) * sp.sin(m*pi*x/L), (x, 0, L)).simplify()"
   ]
  },
  {
   "cell_type": "markdown",
   "id": "c1fc0149",
   "metadata": {},
   "source": [
    "Wie sieht es mit dem Cosinus aus?"
   ]
  },
  {
   "cell_type": "code",
   "execution_count": 4,
   "id": "8d155cbd",
   "metadata": {},
   "outputs": [
    {
     "data": {
      "text/latex": [
       "$\\displaystyle \\begin{cases} 0 & \\text{for}\\: m \\neq n \\\\\\frac{L}{2} & \\text{otherwise} \\end{cases}$"
      ],
      "text/plain": [
       "Piecewise((0, Ne(m, n)), (L/2, True))"
      ]
     },
     "execution_count": 4,
     "metadata": {},
     "output_type": "execute_result"
    }
   ],
   "source": [
    "sp.integrate(sp.cos(n*pi*x/L) * sp.cos(m*pi*x/L), (x, 0, L)).simplify()"
   ]
  },
  {
   "cell_type": "markdown",
   "id": "ddb25544",
   "metadata": {},
   "source": [
    "## Numerisch"
   ]
  },
  {
   "cell_type": "code",
   "execution_count": 5,
   "id": "a68b37df",
   "metadata": {},
   "outputs": [
    {
     "data": {
      "text/plain": [
       "(5.0, 5.551115123125783e-14)"
      ]
     },
     "execution_count": 5,
     "metadata": {},
     "output_type": "execute_result"
    }
   ],
   "source": [
    "import scipy as sci\n",
    "from scipy.integrate import quad\n",
    "\n",
    "pi = np.pi\n",
    "\n",
    "m = 3\n",
    "n = 3\n",
    "L = 10\n",
    "\n",
    "def f(x):\n",
    "    return np.sin(m*x*pi/L) * np.sin(n*x*pi/L)\n",
    "\n",
    "I = quad(f, 0, L, epsabs=1.e-12)\n",
    "I"
   ]
  },
  {
   "cell_type": "markdown",
   "id": "09cac775",
   "metadata": {},
   "source": [
    "### Divergente Integrale"
   ]
  },
  {
   "cell_type": "code",
   "execution_count": 6,
   "id": "4126c059",
   "metadata": {},
   "outputs": [
    {
     "data": {
      "text/latex": [
       "$\\displaystyle \\infty$"
      ],
      "text/plain": [
       "oo"
      ]
     },
     "execution_count": 6,
     "metadata": {},
     "output_type": "execute_result"
    }
   ],
   "source": [
    "x = sp.symbols(\"x\")\n",
    "sp.integrate(1/x, (x, 0, 1))"
   ]
  },
  {
   "cell_type": "code",
   "execution_count": 7,
   "id": "2d8f80cf",
   "metadata": {},
   "outputs": [
    {
     "data": {
      "text/plain": [
       "0.5"
      ]
     },
     "execution_count": 7,
     "metadata": {},
     "output_type": "execute_result"
    }
   ],
   "source": [
    "g = lambda x: 1/x\n",
    "g(2)"
   ]
  },
  {
   "cell_type": "code",
   "execution_count": 8,
   "id": "761c8eac",
   "metadata": {},
   "outputs": [
    {
     "name": "stderr",
     "output_type": "stream",
     "text": [
      "/var/folders/dv/w1w940x57rj_6l3skgv63gqc0000gn/T/ipykernel_27702/1027505703.py:1: IntegrationWarning: The maximum number of subdivisions (50) has been achieved.\n",
      "  If increasing the limit yields no improvement it is advised to analyze \n",
      "  the integrand in order to determine the difficulties.  If the position of a \n",
      "  local difficulty can be determined (singularity, discontinuity) one will \n",
      "  probably gain from splitting up the interval and calling the integrator \n",
      "  on the subranges.  Perhaps a special-purpose integrator should be used.\n",
      "  quad(lambda x: 1/x, 0, 1)\n"
     ]
    },
    {
     "data": {
      "text/plain": [
       "(41.67684067538809, 9.35056037314051)"
      ]
     },
     "execution_count": 8,
     "metadata": {},
     "output_type": "execute_result"
    }
   ],
   "source": [
    "quad(lambda x: 1/x, 0, 1)"
   ]
  },
  {
   "cell_type": "markdown",
   "id": "f394d982",
   "metadata": {},
   "source": [
    "### Uneigentliche Integrale\n",
    "`sympy.oo` ist unendlich."
   ]
  },
  {
   "cell_type": "code",
   "execution_count": 9,
   "id": "c85aec34",
   "metadata": {},
   "outputs": [
    {
     "data": {
      "text/latex": [
       "$\\displaystyle \\pi$"
      ],
      "text/plain": [
       "pi"
      ]
     },
     "execution_count": 9,
     "metadata": {},
     "output_type": "execute_result"
    }
   ],
   "source": [
    "sp.integrate(1/(1+x*x), (x, -sp.oo, sp.oo))"
   ]
  },
  {
   "cell_type": "code",
   "execution_count": 10,
   "id": "0d7f4152",
   "metadata": {},
   "outputs": [
    {
     "data": {
      "text/plain": [
       "(3.141592653589793, 5.155583041103855e-10)"
      ]
     },
     "execution_count": 10,
     "metadata": {},
     "output_type": "execute_result"
    }
   ],
   "source": [
    "quad(lambda x: 1/(1+x*x), -np.Inf, np.Inf)"
   ]
  },
  {
   "cell_type": "markdown",
   "id": "c002c56e",
   "metadata": {},
   "source": [
    "## Lösung der Schwingungsgleichung für gegebene Anfangsbedingung"
   ]
  },
  {
   "cell_type": "markdown",
   "id": "95b9270b",
   "metadata": {},
   "source": [
    "Saite soll nahe dem linken Rand an der Position $x_0$ angehoben werden. Anfangsbedingung:"
   ]
  },
  {
   "cell_type": "code",
   "execution_count": 21,
   "id": "391882f3",
   "metadata": {},
   "outputs": [],
   "source": [
    "x = sp.symbols(\"x\")\n",
    "L = 10\n",
    "x0 = 1"
   ]
  },
  {
   "cell_type": "code",
   "execution_count": 22,
   "id": "dccd15fa",
   "metadata": {},
   "outputs": [],
   "source": [
    "u0 = sp.Piecewise((x/x0, x<x0), ((L-x)/(L-x0), True))"
   ]
  },
  {
   "cell_type": "code",
   "execution_count": 23,
   "id": "6b7b1902",
   "metadata": {},
   "outputs": [
    {
     "data": {
      "image/png": "[encoded data removed]",
      "text/plain": [
       "<Figure size 640x480 with 1 Axes>"
      ]
     },
     "metadata": {},
     "output_type": "display_data"
    },
    {
     "data": {
      "text/plain": [
       "<sympy.plotting.plot.Plot at 0x7fb5e32c87c0>"
      ]
     },
     "execution_count": 23,
     "metadata": {},
     "output_type": "execute_result"
    }
   ],
   "source": [
    "sp.plot(u0, (x, 0, L))"
   ]
  },
  {
   "cell_type": "code",
   "execution_count": 28,
   "id": "e5ab930a",
   "metadata": {},
   "outputs": [
    {
     "data": {
      "text/latex": [
       "$\\displaystyle \\begin{cases} - x \\cos{\\left(x \\right)} + \\sin{\\left(x \\right)} & \\text{for}\\: x < 1 \\\\\\frac{x \\cos{\\left(x \\right)}}{9} - \\frac{\\sin{\\left(x \\right)}}{9} - \\frac{10 \\cos{\\left(x \\right)}}{9} + \\frac{10 \\sin{\\left(1 \\right)}}{9} & \\text{otherwise} \\end{cases}$"
      ],
      "text/plain": [
       "Piecewise((-x*cos(x) + sin(x), x < 1), (x*cos(x)/9 - sin(x)/9 - 10*cos(x)/9 + 10*sin(1)/9, True))"
      ]
     },
     "execution_count": 28,
     "metadata": {},
     "output_type": "execute_result"
    }
   ],
   "source": [
    "sp.integrate(u0 * sp.sin(x), x)"
   ]
  },
  {
   "cell_type": "code",
   "execution_count": 27,
   "id": "729dfef7-22cf-47f6-a833-5852b4d8b308",
   "metadata": {},
   "outputs": [
    {
     "data": {
      "text/latex": [
       "$\\displaystyle - x \\cos{\\left(x \\right)} + \\sin{\\left(x \\right)}$"
      ],
      "text/plain": [
       "-x*cos(x) + sin(x)"
      ]
     },
     "execution_count": 27,
     "metadata": {},
     "output_type": "execute_result"
    }
   ],
   "source": [
    "sp.integrate(x*sp.sin(x),x)"
   ]
  },
  {
   "cell_type": "markdown",
   "id": "c691630f-6449-4401-866b-cea367cef434",
   "metadata": {},
   "source": [
    "Eigenfunktionen:"
   ]
  },
  {
   "cell_type": "code",
   "execution_count": 30,
   "id": "d92d239f-ada6-4b15-ba39-cb81be5db846",
   "metadata": {},
   "outputs": [
    {
     "data": {
      "text/latex": [
       "$\\displaystyle \\sin{\\left(\\frac{\\pi x}{10} \\right)}$"
      ],
      "text/plain": [
       "sin(pi*x/10)"
      ]
     },
     "execution_count": 30,
     "metadata": {},
     "output_type": "execute_result"
    }
   ],
   "source": [
    "pi = sp.pi\n",
    "def eigenfunc(n):\n",
    "    return sp.sin(n*pi*x/L)\n",
    "\n",
    "eig1 = eigenfunc(1)\n",
    "eig1"
   ]
  },
  {
   "cell_type": "markdown",
   "id": "3b81b01b-34e0-415c-a465-577bfc974dc8",
   "metadata": {},
   "source": [
    "Test, ob es Eigenfunktion von $\\frac{\\partial^2}{\\partial x^2}$ ist:"
   ]
  },
  {
   "cell_type": "code",
   "execution_count": 32,
   "id": "24293e46-69c8-4df8-98b6-2aba6233d02a",
   "metadata": {},
   "outputs": [
    {
     "data": {
      "text/latex": [
       "$\\displaystyle - \\frac{\\pi^{2} \\sin{\\left(\\frac{\\pi x}{10} \\right)}}{100}$"
      ],
      "text/plain": [
       "-pi**2*sin(pi*x/10)/100"
      ]
     },
     "execution_count": 32,
     "metadata": {},
     "output_type": "execute_result"
    }
   ],
   "source": [
    "sp.diff(eig1, x, x)"
   ]
  },
  {
   "cell_type": "code",
   "execution_count": 33,
   "id": "90158ab7-6dd2-4cb4-8f2d-9d7248012cc6",
   "metadata": {},
   "outputs": [
    {
     "data": {
      "text/latex": [
       "$\\displaystyle - \\frac{\\pi^{2} \\sin{\\left(\\frac{\\pi x}{10} \\right)}}{100}$"
      ],
      "text/plain": [
       "-pi**2*sin(pi*x/10)/100"
      ]
     },
     "execution_count": 33,
     "metadata": {},
     "output_type": "execute_result"
    }
   ],
   "source": [
    "sp.diff(eig1, x, 2)"
   ]
  },
  {
   "cell_type": "code",
   "execution_count": 38,
   "id": "5f6bf2bc-46bc-434c-b76b-c00fd984d220",
   "metadata": {},
   "outputs": [
    {
     "data": {
      "text/latex": [
       "$\\displaystyle - \\frac{\\pi^{2}}{100}$"
      ],
      "text/plain": [
       "-pi**2/100"
      ]
     },
     "execution_count": 38,
     "metadata": {},
     "output_type": "execute_result"
    }
   ],
   "source": [
    "eig1.diff(x, 2)/eig1"
   ]
  },
  {
   "cell_type": "markdown",
   "id": "cba1b06a-f200-49e8-9438-70a8993af243",
   "metadata": {},
   "source": [
    "Berechnung der ersten 10 Fourierkoeffizienten:"
   ]
  },
  {
   "cell_type": "code",
   "execution_count": 67,
   "id": "e35f7a3c-58e3-4b16-9011-ddfcdbd7dcae",
   "metadata": {},
   "outputs": [
    {
     "data": {
      "text/plain": [
       "[sin(pi*x/10),\n",
       " sin(pi*x/5),\n",
       " sin(3*pi*x/10),\n",
       " sin(2*pi*x/5),\n",
       " sin(pi*x/2),\n",
       " sin(3*pi*x/5),\n",
       " sin(7*pi*x/10),\n",
       " sin(4*pi*x/5),\n",
       " sin(9*pi*x/10),\n",
       " sin(pi*x),\n",
       " sin(11*pi*x/10),\n",
       " sin(6*pi*x/5),\n",
       " sin(13*pi*x/10),\n",
       " sin(7*pi*x/5),\n",
       " sin(3*pi*x/2),\n",
       " sin(8*pi*x/5),\n",
       " sin(17*pi*x/10),\n",
       " sin(9*pi*x/5),\n",
       " sin(19*pi*x/10),\n",
       " sin(2*pi*x)]"
      ]
     },
     "execution_count": 67,
     "metadata": {},
     "output_type": "execute_result"
    }
   ],
   "source": [
    "base = [eigenfunc(n) for n in range(1, 21)]\n",
    "base"
   ]
  },
  {
   "cell_type": "code",
   "execution_count": 82,
   "id": "11b59fd2-1bd8-4472-85a5-03feae426956",
   "metadata": {},
   "outputs": [],
   "source": [
    "fourier_coeffs = [ sp.Rational(2,L)*sp.integrate(u0 * b, (x, 0, L)) for b in base]"
   ]
  },
  {
   "cell_type": "code",
   "execution_count": 84,
   "id": "3cf03b33-325d-4874-b739-fe7535515ea3",
   "metadata": {},
   "outputs": [
    {
     "data": {
      "text/plain": [
       "[200*(-1/4 + sqrt(5)/4)/(9*pi**2),\n",
       " 50*sqrt(5/8 - sqrt(5)/8)/(9*pi**2),\n",
       " 200*(1/4 + sqrt(5)/4)/(81*pi**2),\n",
       " 25*sqrt(sqrt(5)/8 + 5/8)/(18*pi**2),\n",
       " 8/(9*pi**2),\n",
       " 50*sqrt(sqrt(5)/8 + 5/8)/(81*pi**2),\n",
       " 200*(1/4 + sqrt(5)/4)/(441*pi**2),\n",
       " 25*sqrt(5/8 - sqrt(5)/8)/(72*pi**2),\n",
       " 200*(-1/4 + sqrt(5)/4)/(729*pi**2),\n",
       " 0,\n",
       " 200*(1/4 - sqrt(5)/4)/(1089*pi**2),\n",
       " -25*sqrt(5/8 - sqrt(5)/8)/(162*pi**2),\n",
       " 200*(-sqrt(5)/4 - 1/4)/(1521*pi**2),\n",
       " -50*sqrt(sqrt(5)/8 + 5/8)/(441*pi**2),\n",
       " -8/(81*pi**2),\n",
       " -25*sqrt(sqrt(5)/8 + 5/8)/(288*pi**2),\n",
       " 200*(-sqrt(5)/4 - 1/4)/(2601*pi**2),\n",
       " -50*sqrt(5/8 - sqrt(5)/8)/(729*pi**2),\n",
       " 200*(1/4 - sqrt(5)/4)/(3249*pi**2),\n",
       " 0]"
      ]
     },
     "execution_count": 84,
     "metadata": {},
     "output_type": "execute_result"
    }
   ],
   "source": [
    "fourier_coeffs"
   ]
  },
  {
   "cell_type": "code",
   "execution_count": 85,
   "id": "eb983ed5-de36-446d-8bd8-80f05cdd498a",
   "metadata": {},
   "outputs": [
    {
     "data": {
      "text/latex": [
       "$\\displaystyle \\frac{200 \\left(- \\frac{1}{4} + \\frac{\\sqrt{5}}{4}\\right) \\sin{\\left(\\frac{\\pi x}{10} \\right)}}{9 \\pi^{2}} + \\frac{50 \\sqrt{\\frac{5}{8} - \\frac{\\sqrt{5}}{8}} \\sin{\\left(\\frac{\\pi x}{5} \\right)}}{9 \\pi^{2}} + \\frac{200 \\cdot \\left(\\frac{1}{4} + \\frac{\\sqrt{5}}{4}\\right) \\sin{\\left(\\frac{3 \\pi x}{10} \\right)}}{81 \\pi^{2}} + \\frac{25 \\sqrt{\\frac{\\sqrt{5}}{8} + \\frac{5}{8}} \\sin{\\left(\\frac{2 \\pi x}{5} \\right)}}{18 \\pi^{2}} + \\frac{8 \\sin{\\left(\\frac{\\pi x}{2} \\right)}}{9 \\pi^{2}} + \\frac{50 \\sqrt{\\frac{\\sqrt{5}}{8} + \\frac{5}{8}} \\sin{\\left(\\frac{3 \\pi x}{5} \\right)}}{81 \\pi^{2}} + \\frac{200 \\cdot \\left(\\frac{1}{4} + \\frac{\\sqrt{5}}{4}\\right) \\sin{\\left(\\frac{7 \\pi x}{10} \\right)}}{441 \\pi^{2}} + \\frac{25 \\sqrt{\\frac{5}{8} - \\frac{\\sqrt{5}}{8}} \\sin{\\left(\\frac{4 \\pi x}{5} \\right)}}{72 \\pi^{2}} + \\frac{200 \\left(- \\frac{1}{4} + \\frac{\\sqrt{5}}{4}\\right) \\sin{\\left(\\frac{9 \\pi x}{10} \\right)}}{729 \\pi^{2}} + \\frac{200 \\cdot \\left(\\frac{1}{4} - \\frac{\\sqrt{5}}{4}\\right) \\sin{\\left(\\frac{11 \\pi x}{10} \\right)}}{1089 \\pi^{2}} - \\frac{25 \\sqrt{\\frac{5}{8} - \\frac{\\sqrt{5}}{8}} \\sin{\\left(\\frac{6 \\pi x}{5} \\right)}}{162 \\pi^{2}} + \\frac{200 \\left(- \\frac{\\sqrt{5}}{4} - \\frac{1}{4}\\right) \\sin{\\left(\\frac{13 \\pi x}{10} \\right)}}{1521 \\pi^{2}} - \\frac{50 \\sqrt{\\frac{\\sqrt{5}}{8} + \\frac{5}{8}} \\sin{\\left(\\frac{7 \\pi x}{5} \\right)}}{441 \\pi^{2}} - \\frac{8 \\sin{\\left(\\frac{3 \\pi x}{2} \\right)}}{81 \\pi^{2}} - \\frac{25 \\sqrt{\\frac{\\sqrt{5}}{8} + \\frac{5}{8}} \\sin{\\left(\\frac{8 \\pi x}{5} \\right)}}{288 \\pi^{2}} + \\frac{200 \\left(- \\frac{\\sqrt{5}}{4} - \\frac{1}{4}\\right) \\sin{\\left(\\frac{17 \\pi x}{10} \\right)}}{2601 \\pi^{2}} - \\frac{50 \\sqrt{\\frac{5}{8} - \\frac{\\sqrt{5}}{8}} \\sin{\\left(\\frac{9 \\pi x}{5} \\right)}}{729 \\pi^{2}} + \\frac{200 \\cdot \\left(\\frac{1}{4} - \\frac{\\sqrt{5}}{4}\\right) \\sin{\\left(\\frac{19 \\pi x}{10} \\right)}}{3249 \\pi^{2}}$"
      ],
      "text/plain": [
       "200*(-1/4 + sqrt(5)/4)*sin(pi*x/10)/(9*pi**2) + 50*sqrt(5/8 - sqrt(5)/8)*sin(pi*x/5)/(9*pi**2) + 200*(1/4 + sqrt(5)/4)*sin(3*pi*x/10)/(81*pi**2) + 25*sqrt(sqrt(5)/8 + 5/8)*sin(2*pi*x/5)/(18*pi**2) + 8*sin(pi*x/2)/(9*pi**2) + 50*sqrt(sqrt(5)/8 + 5/8)*sin(3*pi*x/5)/(81*pi**2) + 200*(1/4 + sqrt(5)/4)*sin(7*pi*x/10)/(441*pi**2) + 25*sqrt(5/8 - sqrt(5)/8)*sin(4*pi*x/5)/(72*pi**2) + 200*(-1/4 + sqrt(5)/4)*sin(9*pi*x/10)/(729*pi**2) + 200*(1/4 - sqrt(5)/4)*sin(11*pi*x/10)/(1089*pi**2) - 25*sqrt(5/8 - sqrt(5)/8)*sin(6*pi*x/5)/(162*pi**2) + 200*(-sqrt(5)/4 - 1/4)*sin(13*pi*x/10)/(1521*pi**2) - 50*sqrt(sqrt(5)/8 + 5/8)*sin(7*pi*x/5)/(441*pi**2) - 8*sin(3*pi*x/2)/(81*pi**2) - 25*sqrt(sqrt(5)/8 + 5/8)*sin(8*pi*x/5)/(288*pi**2) + 200*(-sqrt(5)/4 - 1/4)*sin(17*pi*x/10)/(2601*pi**2) - 50*sqrt(5/8 - sqrt(5)/8)*sin(9*pi*x/5)/(729*pi**2) + 200*(1/4 - sqrt(5)/4)*sin(19*pi*x/10)/(3249*pi**2)"
      ]
     },
     "execution_count": 85,
     "metadata": {},
     "output_type": "execute_result"
    }
   ],
   "source": [
    "f = 0\n",
    "for c, func in zip(fourier_coeffs, base):\n",
    "    f += c*func\n",
    "f"
   ]
  },
  {
   "cell_type": "code",
   "execution_count": 87,
   "id": "dc2b679c-60c3-4508-afa4-eb3db0f42173",
   "metadata": {},
   "outputs": [
    {
     "data": {
      "image/png": "[encoded data removed]",
      "text/plain": [
       "<Figure size 640x480 with 1 Axes>"
      ]
     },
     "metadata": {},
     "output_type": "display_data"
    },
    {
     "data": {
      "text/plain": [
       "<sympy.plotting.plot.Plot at 0x7fb5e42a2640>"
      ]
     },
     "execution_count": 87,
     "metadata": {},
     "output_type": "execute_result"
    }
   ],
   "source": [
    "sp.plot(f, u0, (x, 0 , L))"
   ]
  },
  {
   "cell_type": "code",
   "execution_count": null,
   "id": "e5e9091c-15c9-45a3-b8bb-ef9da6e35c8c",
   "metadata": {},
   "outputs": [],
   "source": []
  }
 ],
 "metadata": {
  "kernelspec": {
   "display_name": "Python 3 (ipykernel)",
   "language": "python",
   "name": "python3"
  },
  "language_info": {
   "codemirror_mode": {
    "name": "ipython",
    "version": 3
   },
   "file_extension": ".py",
   "mimetype": "text/x-python",
   "name": "python",
   "nbconvert_exporter": "python",
   "pygments_lexer": "ipython3",
   "version": "3.9.12"
  }
 },
 "nbformat": 4,
 "nbformat_minor": 5
}
